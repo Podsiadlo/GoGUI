{
 "cells": [
  {
   "cell_type": "markdown",
   "metadata": {
    "collapsed": true
   },
   "source": [
    "# Laboratorium 2\n"
   ]
  },
  {
   "cell_type": "markdown",
   "metadata": {},
   "source": [
    "### Konfiguracja"
   ]
  },
  {
   "cell_type": "code",
   "execution_count": null,
   "metadata": {},
   "outputs": [],
   "source": [
    "import numpy as np\n",
    "import matplotlib.pyplot as plt\n",
    "import matplotlib.collections as mcoll\n",
    "import matplotlib.colors as mcolors\n",
    "from matplotlib.widgets import Button\n",
    "\n",
    "class _Button_callback(object):\n",
    "    def __init__(self, scenes):\n",
    "        self.i = 0\n",
    "        self.scenes = scenes\n",
    "\n",
    "    def set_axis(self, ax):\n",
    "        self.ax = ax\n",
    "        \n",
    "    def next(self, event):\n",
    "        self.i = (self.i + 1) % len(scenes)\n",
    "        self.draw()\n",
    "\n",
    "    def prev(self, event):\n",
    "        self.i = (self.i - 1) % len(scenes)\n",
    "        self.draw()\n",
    "        \n",
    "    def draw(self):\n",
    "        self.ax.clear()\n",
    "        for collection in scenes[self.i].points:\n",
    "            self.ax.scatter(*zip(*collection.points), c=collection.color)\n",
    "        for collection in scenes[self.i].lines:\n",
    "            self.ax.add_collection(collection.collection)\n",
    "        self.ax.autoscale()\n",
    "        plt.draw()"
   ]
  },
  {
   "cell_type": "markdown",
   "metadata": {},
   "source": [
    "### Interfejsy"
   ]
  },
  {
   "cell_type": "code",
   "execution_count": null,
   "metadata": {},
   "outputs": [],
   "source": [
    "class Scene:\n",
    "    def __init__(self, points=[], lines=[]):\n",
    "        self.points=points\n",
    "        self.lines=lines\n",
    "\n",
    "class PointsCollection:\n",
    "    def __init__(self, points = [], color = None):\n",
    "        self.points = np.array(points)\n",
    "        self.color = color\n",
    "\n",
    "class LinesCollection:\n",
    "    def __init__(self, lines = [], color = None):\n",
    "        if color:\n",
    "            self.collection = mcoll.LineCollection(lines, [mcolors.to_rgba(color)] * len(lines))\n",
    "        else:\n",
    "            self.collection = mcoll.LineCollection(lines)\n",
    "            \n",
    "\n",
    "\n",
    "class Plot:\n",
    "    def __init__(self, scenes = []):\n",
    "        self.scenes = scenes\n",
    "        \n",
    "    def __configure_buttons(self, callback):\n",
    "        plt.subplots_adjust(bottom=0.2)\n",
    "        axprev = plt.axes([0.6, 0.05, 0.15, 0.075])\n",
    "        axnext = plt.axes([0.76, 0.05, 0.15, 0.075])\n",
    "        bnext = Button(axnext, 'Następny')\n",
    "        bnext.on_clicked(callback.next)\n",
    "        bprev = Button(axprev, 'Poprzedni')\n",
    "        bprev.on_clicked(callback.prev)\n",
    "        return [bprev, bnext]\n",
    "\n",
    "    def draw(self):\n",
    "        callback = _Button_callback(self.scenes)\n",
    "        self.widgets = self.__configure_buttons(callback)\n",
    "        callback.set_axis(plt.axes())\n",
    "        plt.show()\n",
    "        callback.draw()\n",
    "    "
   ]
  },
  {
   "cell_type": "markdown",
   "metadata": {},
   "source": [
    "### Przykład użycia"
   ]
  },
  {
   "cell_type": "code",
   "execution_count": null,
   "metadata": {},
   "outputs": [],
   "source": [
    "%matplotlib notebook\n",
    "\n",
    "scenes=[Scene([PointsCollection([(1, 2), (3, 1.5), (2, -1)]), \n",
    "               PointsCollection([(5, -2), (2, 2), (-2, -1)], 'green')], \n",
    "              [LinesCollection([[(1,2),(2,3)], [(0,1),(1,0)]])]), \n",
    "        Scene([PointsCollection([(1, 2), (30, 1.5), (2, -1)], 'red'), \n",
    "               PointsCollection([(5, -2), (2, 2), (-2, 1)], 'black')], \n",
    "              [LinesCollection([[(-1,2),(-2,3)], [(0,-1),(-1,0)]])])]\n",
    "\n",
    "plot = Plot(scenes)\n",
    "plot.draw() \n"
   ]
  },
  {
   "cell_type": "markdown",
   "metadata": {},
   "source": [
    "### Rozwiązanie"
   ]
  },
  {
   "cell_type": "code",
   "execution_count": null,
   "metadata": {},
   "outputs": [],
   "source": [
    "%matplotlib notebook\n",
    "\n"
   ]
  }
 ],
 "metadata": {
  "kernelspec": {
   "display_name": "Python 3",
   "language": "python",
   "name": "python3"
  },
  "language_info": {
   "codemirror_mode": {
    "name": "ipython",
    "version": 3
   },
   "file_extension": ".py",
   "mimetype": "text/x-python",
   "name": "python",
   "nbconvert_exporter": "python",
   "pygments_lexer": "ipython3",
   "version": "3.5.2"
  },
  "pycharm": {
   "stem_cell": {
    "cell_type": "raw",
    "metadata": {
     "collapsed": false
    },
    "source": []
   }
  }
 },
 "nbformat": 4,
 "nbformat_minor": 1
}
